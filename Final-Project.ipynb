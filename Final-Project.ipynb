{
 "cells": [
  {
   "cell_type": "markdown",
   "metadata": {},
   "source": [
    "## CLEANING THE DATA"
   ]
  },
  {
   "cell_type": "code",
   "execution_count": 1,
   "metadata": {},
   "outputs": [],
   "source": [
    "import pandas as pd\n",
    "import numpy as np"
   ]
  },
  {
   "cell_type": "code",
   "execution_count": 2,
   "metadata": {},
   "outputs": [
    {
     "name": "stderr",
     "output_type": "stream",
     "text": [
      "/share/apps/jupyterhub/2019-FA-DS-GA-3001/lib/python3.7/site-packages/IPython/core/interactiveshell.py:3057: DtypeWarning: Columns (3) have mixed types. Specify dtype option on import or set low_memory=False.\n",
      "  interactivity=interactivity, compiler=compiler, result=result)\n"
     ]
    }
   ],
   "source": [
    "data = pd.read_csv(\"fmld_merged - fmld_merged (4).csv\")"
   ]
  },
  {
   "cell_type": "code",
   "execution_count": 3,
   "metadata": {},
   "outputs": [],
   "source": [
    "to_drop = [\"HISP2\", \"DIVISION\",'RETSURVX','RETSURVM',\"OTHREGXM\",\"FSMPFRXM\", \"HIGH_EDU\", \"WELFRBX\",\"JFS_AMTM\", \"JFS_AMT1\", \"JFS_AMT2\", 'JFS_AMT3', 'JFS_AMT4', 'JFS_AMT5', \"FSS_RRXM\",\"FINCBEFM\", \"CUID\",\"FOODTOT\", \"STRTYEAR\", \"JFS_AMT\", \"JGROCYWK\", \"JGRCFDWK\",\"FWAGEX\",\"FSS_RRX\",\"FPVTX\",\"FJSSDEDX\",\"FINCBEFX\",\"INC_RNKM\",\"FWAGEXI\", \"FWAGEXM\", \"SEX_REF_\",\"SEX2\", \"STRTMNTH\", \"LUMPBX_\", \"LUMPBX\", \"LUMPBX_\", \"OTHINB\", \"OTHINB_\", \"OTHINBX\", \"OTHINBX_\", \"WELFRB\", \"WELFRB_\", \"PSU\", \"FSMPFRMX\", \"FSMPFRMX\", \"FSMP_RMX\", \"FSMPFRX1\", \"FSMPFRX2\", \"FSMPFRX3\", \"FSMPFRX4\", \"FSMPFRX5\", \"TYPOWND\" , \"TYPOWND_\", \"VEHQ_\",\"WEEKI\", \"WEEKI_\", \"WEEKN\", \"WELFRX\",\"REF__ACE\", \"REC_FS_\", \"RACE2\", \"RACE2_\", \"OCCU_IS1\", \"PERS_T64\", \"PERS_T18\", \"OTHRECX\", \"OTHRECX_\", \"OTHINX\", \"OTHINX_\", \"OCCULIS2\", \"OCCU_IS2\", \"OCCEXPNX\", \"OCCE_PNX\", \"NO_E_RNR\", \"MARI_AL1\", \"LUMPX\", \"LUMPX_\", \"JGRO_YWK\", \"JGRO_YMV\", \"JGRC_DWK\", \"JGRC_DMV\", \"JFS_AMT_\", \"HRSP_WK1\", \"HRSPRWK2\", \"HRSP_WK2\", \"FWAGEX_\", \"FSUPPX\", \"FSUPPX_\", \"FSS_RRX_\", \"FS_MTHI\", \"FS_MTHI_\", \"FRRX_\", \"FREEMLX\", \"FREEMLX_\", \"FPVTX_\", \"FJSS_EDX\", \"FIRAX_\", \"FINC_EFX\", \"FINLWT21\", \"FGVX_\", \"FAM__YPE\", \"FAM__IZE\", \"EMPL_YP2\", \"EMPLTYP2\", \"EMPL_YP1\", \"EDUC0REF\", \"EDUCA2\", \"EDUCA2_\", \"EARN_OMP\", \"DESCRIP_\", \"DESCRIP\", \"CUTE_URE\", \"AGE2\", \"AGE2_\", \"AGE_REF_\", \"INC_RNK5\", \"INC_RNK4\", \"INC_RNK3\", \"INC_RNK2\", \"INC_RNK1\", \"FRRX\", \"FRRX_\", \"OTHREGB\", \"OTHREGBX\", \"OTHREGX\", \"RETSRVBX\", \"RETSURVB\", \"ROYESTB\", \"FJSSDEDM\", \"REFGEN\", \"FS_AMTXM\", \"FS_AMTXM\", \"ROYESTBX\", \"ROYESTX\", \"ROYESTX1\", \"ROYESTX2\", \"ROYESTX3\", \"ROYESTX4\", \"ROYESTX5\", \"ROYESTXI\", \"RETSURV1\", \"RETSURV2\", \"RETSURV3\", \"RETSURV4\", \"RETSURV5\", \"RETSURVI\", \"OTHREGX1\", \"OTHREGX2\", \"OTHREGX3\", \"OTHREGX4\", \"OTHREGX5\", \"OTHREGXI\", \"NETR_NTX\", \"NETR_TBX\", \"OTHREGB_\", \"OTHR_GBX\", \"OTHREGX_\", \"RETS_VBX\", \"RETS_RVB\", \"RETS_RVX\", \"ROYESTB_\", \"ROYE_TBX\", \"ROYESTX_\", \"FSMP_RXM\", \"INTR_VXM\", \"NETR_NTM\", \"OTHR_GXM\", \"RETS_RVM\", \"ROYE_TXM\", \"NETRENT1\", \"NETRENT2\", \"NETRENT3\", \"NETRENT4\", \"NETRENT5\", \"NETRENTI\", \"FSMPFRXI\", \"INTRDVB_\", \"INTR_VBX\", \"NETRENTB\", \"NETR_NTB\", \"INTRDVX\", \"INTRDVX_\", \"INTRDVX1\", \"INTRDVX2\", \"INTRDVX3\", \"INTRDVX4\", \"INTRDVX5\", \"INTRDVXI\", \"WHYNWRK1\", \"WHYN_RK1\", \"WHYNWRK2\", \"WHYN_RK2\", \"WK_WRKD1\", \"WK_W_KD1\", \"WK_WRKD2\", \"WK_W_KD2\", \"INTRDVB\", \"INTRDVBX\", \"WTREP01\", \"WTREP02\", \"WTREP03\", \"WTREP04\", \"WTREP05\", \"WTREP06\", \"WTREP07\", \"WTREP08\", \"WTREP09\", \"WTREP10\", \"WTREP11\", \"NETRENTM\", \"NETRENTX\", \"NETRNTBX\", \"WTREP12\", \"WTREP13\", \"WTREP14\", \"WTREP15\", \"WTREP16\", \"WTREP17\", \"WTREP18\", \"WTREP19\", \"WTREP20\", \"WTREP21\", \"WTREP22\", \"WTREP23\", \"WTREP24\", \"WTREP25\", \"WTREP26\", \"WTREP27\", \"WTREP28\", \"WTREP29\", \"WTREP30\", \"WTREP31\", \"WTREP32\", \"WTREP33\", \"WTREP34\", \"WTREP35\", \"WTREP36\", \"WTREP37\", \"WTREP38\", \"WTREP39\", \"WTREP40\", \"WTREP41\", \"WTREP42\", \"WTREP43\", \"WTREP44\", \"HH_CU_Q\", \"HH_CU_Q_\", \"HHID\", \"HHID_\", \"CHIL_AGE\", \"INC__ANK\", \"HORREF1\", \"HORREF1_\", \"HORREF2\", \"HORREF2_\", \"FGVXM\", \"FGVXM_\", \"FINC_EFM\", \"FINCBEF1\", \"FINCBEF2\", \"FINCBEF3\", \"FINCBEF4\", \"FINCBEF5\", \"FINCBEFI\", \"FJSS_EDM\", \"FJSSDED1\", \"FJSSDED2\", \"FJSSDED3\", \"FJSSDED4\", \"FJSSDED5\", \"FPVTXM\", \"FPVTXM_\", \"FRRXM\", \"FRRXM_\", \"FS_A_TXM\", \"FS_AMTX1\", \"FS_AMTX2\", \"FS_AMTX3\", \"FS_AMTX4\", \"FS_AMTX5\", \"FS_AMTXI\", \"FSS__RXM\", \"FSS_RRX1\", \"FSS_RRX2\", \"FSS_RRX3\", \"FSS_RRX4\", \"FSS_RRX5\", \"FSS_RRXI\", \"FSUPPXM\", \"FSUPPXM_\", \"FSUPPX1\", \"FSUPPX2\", \"FSUPPX3\", \"FSUPPX4\", \"FSUPPX5\", \"FSUPPXI\", \"FWAGEXM_\", \"FWAGEX1\", \"FWAGEX2\", \"FWAGEX3\", \"FWAGEX4\", \"FWAGEX5\", \"OTHINXM\", \"OTHINXM_\", \"OTHINX1\", \"OTHINX2\", \"OTHINX3\", \"OTHINX4\", \"OTHINX5\", \"OTHINXI\", \"WELFRXM\", \"WELFRXM_\", \"WELFRX1\", \"WELFRX2\", \"WELFRX3\", \"WELFRX4\", \"WELFRX5\", \"WELFRXI\", \"PICKCODE\", \"LUMPB\", \"LUMPB_\", \"LUMPBX\"]"
   ]
  },
  {
   "cell_type": "code",
   "execution_count": 4,
   "metadata": {},
   "outputs": [],
   "source": [
    "data = data.drop(to_drop, axis=1)"
   ]
  },
  {
   "cell_type": "code",
   "execution_count": 5,
   "metadata": {},
   "outputs": [],
   "source": [
    "# sorting by first name \n",
    "data.sort_values(\"NEWID\", inplace = True) "
   ]
  },
  {
   "cell_type": "code",
   "execution_count": 6,
   "metadata": {},
   "outputs": [],
   "source": [
    "data.drop_duplicates(subset =\"NEWID\", \n",
    "                     keep = False, inplace = True) \n",
    "\n",
    "# We no longer need the new id\n",
    "data = data.drop(\"NEWID\", axis=1)"
   ]
  },
  {
   "cell_type": "code",
   "execution_count": 7,
   "metadata": {},
   "outputs": [
    {
     "data": {
      "text/plain": [
       "(5677, 63)"
      ]
     },
     "execution_count": 7,
     "metadata": {},
     "output_type": "execute_result"
    }
   ],
   "source": [
    "data.shape"
   ]
  },
  {
   "cell_type": "code",
   "execution_count": 8,
   "metadata": {},
   "outputs": [],
   "source": [
    "# to fill with zeroes\n",
    "zeros = ['INTRDVXM']"
   ]
  },
  {
   "cell_type": "code",
   "execution_count": 9,
   "metadata": {},
   "outputs": [
    {
     "data": {
      "text/html": [
       "<div>\n",
       "<style scoped>\n",
       "    .dataframe tbody tr th:only-of-type {\n",
       "        vertical-align: middle;\n",
       "    }\n",
       "\n",
       "    .dataframe tbody tr th {\n",
       "        vertical-align: top;\n",
       "    }\n",
       "\n",
       "    .dataframe thead th {\n",
       "        text-align: right;\n",
       "    }\n",
       "</style>\n",
       "<table border=\"1\" class=\"dataframe\">\n",
       "  <thead>\n",
       "    <tr style=\"text-align: right;\">\n",
       "      <th></th>\n",
       "      <th>INC_RANK</th>\n",
       "      <th>AGE_REF</th>\n",
       "      <th>BLS_URBN</th>\n",
       "      <th>CUTENURE</th>\n",
       "      <th>EARNCOMP</th>\n",
       "      <th>EDUC_REF</th>\n",
       "      <th>EMPLTYP1</th>\n",
       "      <th>FAM_SIZE</th>\n",
       "      <th>FAM_TYPE</th>\n",
       "      <th>FGVX</th>\n",
       "      <th>...</th>\n",
       "      <th>DRUGSUPP</th>\n",
       "      <th>HOUSKEEP</th>\n",
       "      <th>CHILDAGE</th>\n",
       "      <th>STATE</th>\n",
       "      <th>INC__NKM</th>\n",
       "      <th>JFS__MTM</th>\n",
       "      <th>WELFRBX_</th>\n",
       "      <th>INTRDVXM</th>\n",
       "      <th>ROYESTXM</th>\n",
       "      <th>HISP_REF</th>\n",
       "    </tr>\n",
       "  </thead>\n",
       "  <tbody>\n",
       "    <tr>\n",
       "      <td>2896</td>\n",
       "      <td>0.763567</td>\n",
       "      <td>36</td>\n",
       "      <td>1</td>\n",
       "      <td>1</td>\n",
       "      <td>1</td>\n",
       "      <td>14</td>\n",
       "      <td>1.0</td>\n",
       "      <td>2</td>\n",
       "      <td>1</td>\n",
       "      <td>0</td>\n",
       "      <td>...</td>\n",
       "      <td>0.00000</td>\n",
       "      <td>22.95</td>\n",
       "      <td>0</td>\n",
       "      <td>55.0</td>\n",
       "      <td>D</td>\n",
       "      <td>D</td>\n",
       "      <td>A</td>\n",
       "      <td>0.0</td>\n",
       "      <td>NaN</td>\n",
       "      <td>2</td>\n",
       "    </tr>\n",
       "    <tr>\n",
       "      <td>2897</td>\n",
       "      <td>0.765380</td>\n",
       "      <td>36</td>\n",
       "      <td>1</td>\n",
       "      <td>1</td>\n",
       "      <td>1</td>\n",
       "      <td>14</td>\n",
       "      <td>1.0</td>\n",
       "      <td>2</td>\n",
       "      <td>1</td>\n",
       "      <td>0</td>\n",
       "      <td>...</td>\n",
       "      <td>131.22148</td>\n",
       "      <td>3.43</td>\n",
       "      <td>0</td>\n",
       "      <td>55.0</td>\n",
       "      <td>D</td>\n",
       "      <td>D</td>\n",
       "      <td>A</td>\n",
       "      <td>0.0</td>\n",
       "      <td>NaN</td>\n",
       "      <td>2</td>\n",
       "    </tr>\n",
       "    <tr>\n",
       "      <td>2898</td>\n",
       "      <td>0.048528</td>\n",
       "      <td>46</td>\n",
       "      <td>1</td>\n",
       "      <td>4</td>\n",
       "      <td>1</td>\n",
       "      <td>15</td>\n",
       "      <td>1.0</td>\n",
       "      <td>1</td>\n",
       "      <td>8</td>\n",
       "      <td>0</td>\n",
       "      <td>...</td>\n",
       "      <td>0.00000</td>\n",
       "      <td>0.00</td>\n",
       "      <td>0</td>\n",
       "      <td>15.0</td>\n",
       "      <td>D</td>\n",
       "      <td>D</td>\n",
       "      <td>A</td>\n",
       "      <td>0.0</td>\n",
       "      <td>NaN</td>\n",
       "      <td>2</td>\n",
       "    </tr>\n",
       "    <tr>\n",
       "      <td>2899</td>\n",
       "      <td>0.033748</td>\n",
       "      <td>46</td>\n",
       "      <td>1</td>\n",
       "      <td>4</td>\n",
       "      <td>1</td>\n",
       "      <td>15</td>\n",
       "      <td>1.0</td>\n",
       "      <td>1</td>\n",
       "      <td>8</td>\n",
       "      <td>0</td>\n",
       "      <td>...</td>\n",
       "      <td>0.00000</td>\n",
       "      <td>0.00</td>\n",
       "      <td>0</td>\n",
       "      <td>15.0</td>\n",
       "      <td>D</td>\n",
       "      <td>D</td>\n",
       "      <td>A</td>\n",
       "      <td>0.0</td>\n",
       "      <td>NaN</td>\n",
       "      <td>2</td>\n",
       "    </tr>\n",
       "    <tr>\n",
       "      <td>2900</td>\n",
       "      <td>0.331063</td>\n",
       "      <td>74</td>\n",
       "      <td>1</td>\n",
       "      <td>4</td>\n",
       "      <td>8</td>\n",
       "      <td>12</td>\n",
       "      <td>NaN</td>\n",
       "      <td>2</td>\n",
       "      <td>1</td>\n",
       "      <td>0</td>\n",
       "      <td>...</td>\n",
       "      <td>0.00000</td>\n",
       "      <td>0.00</td>\n",
       "      <td>0</td>\n",
       "      <td>36.0</td>\n",
       "      <td>D</td>\n",
       "      <td>D</td>\n",
       "      <td>A</td>\n",
       "      <td>3000.0</td>\n",
       "      <td>NaN</td>\n",
       "      <td>2</td>\n",
       "    </tr>\n",
       "  </tbody>\n",
       "</table>\n",
       "<p>5 rows × 63 columns</p>\n",
       "</div>"
      ],
      "text/plain": [
       "      INC_RANK  AGE_REF  BLS_URBN  CUTENURE  EARNCOMP  EDUC_REF  EMPLTYP1  \\\n",
       "2896  0.763567       36         1         1         1        14       1.0   \n",
       "2897  0.765380       36         1         1         1        14       1.0   \n",
       "2898  0.048528       46         1         4         1        15       1.0   \n",
       "2899  0.033748       46         1         4         1        15       1.0   \n",
       "2900  0.331063       74         1         4         8        12       NaN   \n",
       "\n",
       "      FAM_SIZE  FAM_TYPE  FGVX  ...   DRUGSUPP  HOUSKEEP  CHILDAGE  STATE  \\\n",
       "2896         2         1     0  ...    0.00000     22.95         0   55.0   \n",
       "2897         2         1     0  ...  131.22148      3.43         0   55.0   \n",
       "2898         1         8     0  ...    0.00000      0.00         0   15.0   \n",
       "2899         1         8     0  ...    0.00000      0.00         0   15.0   \n",
       "2900         2         1     0  ...    0.00000      0.00         0   36.0   \n",
       "\n",
       "      INC__NKM  JFS__MTM  WELFRBX_  INTRDVXM  ROYESTXM  HISP_REF  \n",
       "2896         D         D         A       0.0       NaN         2  \n",
       "2897         D         D         A       0.0       NaN         2  \n",
       "2898         D         D         A       0.0       NaN         2  \n",
       "2899         D         D         A       0.0       NaN         2  \n",
       "2900         D         D         A    3000.0       NaN         2  \n",
       "\n",
       "[5 rows x 63 columns]"
      ]
     },
     "execution_count": 9,
     "metadata": {},
     "output_type": "execute_result"
    }
   ],
   "source": [
    "for col in zeros:\n",
    "    data[col] = data[col].fillna(0)\n",
    "data.head()"
   ]
  },
  {
   "cell_type": "code",
   "execution_count": 10,
   "metadata": {},
   "outputs": [],
   "source": [
    "# Dropping all non numeric values\n",
    "drop_list = []\n",
    "for column in data.columns:\n",
    "    if data[column].dtype not in [\"float64\", \"int64\"]:\n",
    "        drop_list.append(column)\n",
    "data = data.drop(drop_list, axis=1)"
   ]
  },
  {
   "cell_type": "code",
   "execution_count": 11,
   "metadata": {},
   "outputs": [],
   "source": [
    "# Changing the remaining na values to mean\n",
    "data = data.fillna(data.mean())"
   ]
  },
  {
   "cell_type": "code",
   "execution_count": 12,
   "metadata": {},
   "outputs": [],
   "source": [
    "labels = np.array(data['INC_RANK'].tolist())"
   ]
  },
  {
   "cell_type": "code",
   "execution_count": 13,
   "metadata": {},
   "outputs": [
    {
     "data": {
      "text/plain": [
       "array([0.7635665, 0.7653797, 0.0485282, ..., 0.4852189, 0.4376007,\n",
       "       0.4407932])"
      ]
     },
     "execution_count": 13,
     "metadata": {},
     "output_type": "execute_result"
    }
   ],
   "source": [
    "labels"
   ]
  },
  {
   "cell_type": "code",
   "execution_count": 14,
   "metadata": {},
   "outputs": [],
   "source": [
    "data_without_labels = data.drop('INC_RANK', axis=1)"
   ]
  },
  {
   "cell_type": "code",
   "execution_count": 15,
   "metadata": {},
   "outputs": [
    {
     "data": {
      "text/html": [
       "<div>\n",
       "<style scoped>\n",
       "    .dataframe tbody tr th:only-of-type {\n",
       "        vertical-align: middle;\n",
       "    }\n",
       "\n",
       "    .dataframe tbody tr th {\n",
       "        vertical-align: top;\n",
       "    }\n",
       "\n",
       "    .dataframe thead th {\n",
       "        text-align: right;\n",
       "    }\n",
       "</style>\n",
       "<table border=\"1\" class=\"dataframe\">\n",
       "  <thead>\n",
       "    <tr style=\"text-align: right;\">\n",
       "      <th></th>\n",
       "      <th>AGE_REF</th>\n",
       "      <th>BLS_URBN</th>\n",
       "      <th>CUTENURE</th>\n",
       "      <th>EARNCOMP</th>\n",
       "      <th>EDUC_REF</th>\n",
       "      <th>EMPLTYP1</th>\n",
       "      <th>FAM_SIZE</th>\n",
       "      <th>FAM_TYPE</th>\n",
       "      <th>FGVX</th>\n",
       "      <th>FIRAX</th>\n",
       "      <th>...</th>\n",
       "      <th>PET_FOOD</th>\n",
       "      <th>PERSPROD</th>\n",
       "      <th>PERSSERV</th>\n",
       "      <th>DRUGSUPP</th>\n",
       "      <th>HOUSKEEP</th>\n",
       "      <th>CHILDAGE</th>\n",
       "      <th>STATE</th>\n",
       "      <th>INTRDVXM</th>\n",
       "      <th>ROYESTXM</th>\n",
       "      <th>HISP_REF</th>\n",
       "    </tr>\n",
       "  </thead>\n",
       "  <tbody>\n",
       "    <tr>\n",
       "      <td>2896</td>\n",
       "      <td>36</td>\n",
       "      <td>1</td>\n",
       "      <td>1</td>\n",
       "      <td>1</td>\n",
       "      <td>14</td>\n",
       "      <td>1.000000</td>\n",
       "      <td>2</td>\n",
       "      <td>1</td>\n",
       "      <td>0</td>\n",
       "      <td>0</td>\n",
       "      <td>...</td>\n",
       "      <td>0.00</td>\n",
       "      <td>0.0</td>\n",
       "      <td>0.0</td>\n",
       "      <td>0.00000</td>\n",
       "      <td>22.95</td>\n",
       "      <td>0</td>\n",
       "      <td>55.0</td>\n",
       "      <td>0.0</td>\n",
       "      <td>16435.842857</td>\n",
       "      <td>2</td>\n",
       "    </tr>\n",
       "    <tr>\n",
       "      <td>2897</td>\n",
       "      <td>36</td>\n",
       "      <td>1</td>\n",
       "      <td>1</td>\n",
       "      <td>1</td>\n",
       "      <td>14</td>\n",
       "      <td>1.000000</td>\n",
       "      <td>2</td>\n",
       "      <td>1</td>\n",
       "      <td>0</td>\n",
       "      <td>0</td>\n",
       "      <td>...</td>\n",
       "      <td>31.52</td>\n",
       "      <td>0.0</td>\n",
       "      <td>0.0</td>\n",
       "      <td>131.22148</td>\n",
       "      <td>3.43</td>\n",
       "      <td>0</td>\n",
       "      <td>55.0</td>\n",
       "      <td>0.0</td>\n",
       "      <td>16435.842857</td>\n",
       "      <td>2</td>\n",
       "    </tr>\n",
       "    <tr>\n",
       "      <td>2898</td>\n",
       "      <td>46</td>\n",
       "      <td>1</td>\n",
       "      <td>4</td>\n",
       "      <td>1</td>\n",
       "      <td>15</td>\n",
       "      <td>1.000000</td>\n",
       "      <td>1</td>\n",
       "      <td>8</td>\n",
       "      <td>0</td>\n",
       "      <td>0</td>\n",
       "      <td>...</td>\n",
       "      <td>0.00</td>\n",
       "      <td>0.0</td>\n",
       "      <td>0.0</td>\n",
       "      <td>0.00000</td>\n",
       "      <td>0.00</td>\n",
       "      <td>0</td>\n",
       "      <td>15.0</td>\n",
       "      <td>0.0</td>\n",
       "      <td>16435.842857</td>\n",
       "      <td>2</td>\n",
       "    </tr>\n",
       "    <tr>\n",
       "      <td>2899</td>\n",
       "      <td>46</td>\n",
       "      <td>1</td>\n",
       "      <td>4</td>\n",
       "      <td>1</td>\n",
       "      <td>15</td>\n",
       "      <td>1.000000</td>\n",
       "      <td>1</td>\n",
       "      <td>8</td>\n",
       "      <td>0</td>\n",
       "      <td>0</td>\n",
       "      <td>...</td>\n",
       "      <td>0.00</td>\n",
       "      <td>0.0</td>\n",
       "      <td>0.0</td>\n",
       "      <td>0.00000</td>\n",
       "      <td>0.00</td>\n",
       "      <td>0</td>\n",
       "      <td>15.0</td>\n",
       "      <td>0.0</td>\n",
       "      <td>16435.842857</td>\n",
       "      <td>2</td>\n",
       "    </tr>\n",
       "    <tr>\n",
       "      <td>2900</td>\n",
       "      <td>74</td>\n",
       "      <td>1</td>\n",
       "      <td>4</td>\n",
       "      <td>8</td>\n",
       "      <td>12</td>\n",
       "      <td>1.729323</td>\n",
       "      <td>2</td>\n",
       "      <td>1</td>\n",
       "      <td>0</td>\n",
       "      <td>0</td>\n",
       "      <td>...</td>\n",
       "      <td>0.00</td>\n",
       "      <td>0.0</td>\n",
       "      <td>0.0</td>\n",
       "      <td>0.00000</td>\n",
       "      <td>0.00</td>\n",
       "      <td>0</td>\n",
       "      <td>36.0</td>\n",
       "      <td>3000.0</td>\n",
       "      <td>16435.842857</td>\n",
       "      <td>2</td>\n",
       "    </tr>\n",
       "  </tbody>\n",
       "</table>\n",
       "<p>5 rows × 57 columns</p>\n",
       "</div>"
      ],
      "text/plain": [
       "      AGE_REF  BLS_URBN  CUTENURE  EARNCOMP  EDUC_REF  EMPLTYP1  FAM_SIZE  \\\n",
       "2896       36         1         1         1        14  1.000000         2   \n",
       "2897       36         1         1         1        14  1.000000         2   \n",
       "2898       46         1         4         1        15  1.000000         1   \n",
       "2899       46         1         4         1        15  1.000000         1   \n",
       "2900       74         1         4         8        12  1.729323         2   \n",
       "\n",
       "      FAM_TYPE  FGVX  FIRAX  ...  PET_FOOD  PERSPROD  PERSSERV   DRUGSUPP  \\\n",
       "2896         1     0      0  ...      0.00       0.0       0.0    0.00000   \n",
       "2897         1     0      0  ...     31.52       0.0       0.0  131.22148   \n",
       "2898         8     0      0  ...      0.00       0.0       0.0    0.00000   \n",
       "2899         8     0      0  ...      0.00       0.0       0.0    0.00000   \n",
       "2900         1     0      0  ...      0.00       0.0       0.0    0.00000   \n",
       "\n",
       "      HOUSKEEP  CHILDAGE  STATE  INTRDVXM      ROYESTXM  HISP_REF  \n",
       "2896     22.95         0   55.0       0.0  16435.842857         2  \n",
       "2897      3.43         0   55.0       0.0  16435.842857         2  \n",
       "2898      0.00         0   15.0       0.0  16435.842857         2  \n",
       "2899      0.00         0   15.0       0.0  16435.842857         2  \n",
       "2900      0.00         0   36.0    3000.0  16435.842857         2  \n",
       "\n",
       "[5 rows x 57 columns]"
      ]
     },
     "execution_count": 15,
     "metadata": {},
     "output_type": "execute_result"
    }
   ],
   "source": [
    "data_without_labels.head()"
   ]
  },
  {
   "cell_type": "code",
   "execution_count": 16,
   "metadata": {},
   "outputs": [],
   "source": [
    "column_names = data_without_labels.columns\n",
    "X= data_without_labels.values"
   ]
  },
  {
   "cell_type": "code",
   "execution_count": 17,
   "metadata": {},
   "outputs": [
    {
     "name": "stdout",
     "output_type": "stream",
     "text": [
      "Index(['AGE_REF', 'BLS_URBN', 'CUTENURE', 'EARNCOMP', 'EDUC_REF', 'EMPLTYP1',\n",
      "       'FAM_SIZE', 'FAM_TYPE', 'FGVX', 'FIRAX', 'HRSPRWK1', 'JGRCFDMV',\n",
      "       'JGROCYMV', 'MARITAL1', 'NO_EARNR', 'PERSLT18', 'PERSOT64', 'OCCULIS1',\n",
      "       'POPSIZE', 'REC_FS', 'REF_RACE', 'REGION', 'SEX_REF', 'SMSASTAT',\n",
      "       'VEHQ', 'FOODHOME', 'CEREAL', 'BAKEPROD', 'BEEF', 'PORK', 'OTHMEAT',\n",
      "       'POULTRY', 'SEAFOOD', 'EGGS', 'MILKPROD', 'OTHDAIRY', 'FRSHFRUT',\n",
      "       'FRSHVEG', 'PROCFRUT', 'PROCVEG', 'SWEETS', 'NONALBEV', 'OILS',\n",
      "       'MISCFOOD', 'FOODAWAY', 'ALCBEV', 'SMOKSUPP', 'PET_FOOD', 'PERSPROD',\n",
      "       'PERSSERV', 'DRUGSUPP', 'HOUSKEEP', 'CHILDAGE', 'STATE', 'INTRDVXM',\n",
      "       'ROYESTXM', 'HISP_REF'],\n",
      "      dtype='object')\n"
     ]
    }
   ],
   "source": [
    "print(column_names)"
   ]
  },
  {
   "cell_type": "markdown",
   "metadata": {},
   "source": [
    "## STANDARDIZING"
   ]
  },
  {
   "cell_type": "code",
   "execution_count": 18,
   "metadata": {},
   "outputs": [
    {
     "name": "stdout",
     "output_type": "stream",
     "text": [
      "StandardScaler(copy=True, with_mean=True, with_std=True)\n",
      "[[-9.62418516e-01 -2.73835349e-01 -9.84929669e-01 ... -1.70160337e-01\n",
      "  -1.33220694e-15  3.91354881e-01]\n",
      " [-9.62418516e-01 -2.73835349e-01 -9.84929669e-01 ... -1.70160337e-01\n",
      "  -1.33220694e-15  3.91354881e-01]\n",
      " [-3.75969752e-01 -2.73835349e-01  1.27911908e+00 ... -1.70160337e-01\n",
      "  -1.33220694e-15  3.91354881e-01]\n",
      " ...\n",
      " [ 1.50066630e+00 -2.73835349e-01 -2.30246752e-01 ... -1.68447208e-01\n",
      "  -1.33220694e-15  3.91354881e-01]\n",
      " [-1.43157753e+00 -2.73835349e-01 -9.84929669e-01 ... -1.70160337e-01\n",
      "  -1.33220694e-15  3.91354881e-01]\n",
      " [-1.43157753e+00 -2.73835349e-01 -9.84929669e-01 ... -1.70160337e-01\n",
      "  -1.33220694e-15  3.91354881e-01]]\n"
     ]
    }
   ],
   "source": [
    "from sklearn import svm\n",
    "from sklearn.preprocessing import StandardScaler\n",
    "scaler = StandardScaler()\n",
    "print(scaler.fit(X))\n",
    "StandardScaler()\n",
    "X_standardized = scaler.transform(X)\n",
    "print(X_standardized)"
   ]
  },
  {
   "cell_type": "markdown",
   "metadata": {},
   "source": [
    "## Supervised Learning"
   ]
  },
  {
   "cell_type": "markdown",
   "metadata": {},
   "source": [
    "### KMEANS"
   ]
  },
  {
   "cell_type": "code",
   "execution_count": 19,
   "metadata": {},
   "outputs": [],
   "source": [
    "from sklearn import cluster\n",
    "import matplotlib.pyplot as plt"
   ]
  },
  {
   "cell_type": "code",
   "execution_count": 20,
   "metadata": {},
   "outputs": [
    {
     "data": {
      "text/plain": [
       "[<matplotlib.lines.Line2D at 0x2b6f400fb4e0>]"
      ]
     },
     "execution_count": 20,
     "metadata": {},
     "output_type": "execute_result"
    },
    {
     "data": {
      "image/png": "[encoded data removed]",
      "text/plain": [
       "<Figure size 432x288 with 1 Axes>"
      ]
     },
     "metadata": {
      "needs_background": "light"
     },
     "output_type": "display_data"
    }
   ],
   "source": [
    "num_iters = 40\n",
    "distortion = [0 for i in range(num_iters)]\n",
    "for i in range(num_iters+2)[2:]:\n",
    "    km = cluster.KMeans(n_clusters = i, init=\"k-means++\")\n",
    "    clusters = km.fit_predict(X_standardized)\n",
    "    distortion[i-2] = km.inertia_\n",
    "\n",
    "plt.plot(list(range(num_iters+2)[2:]), distortion)\n",
    "\n"
   ]
  },
  {
   "cell_type": "code",
   "execution_count": 21,
   "metadata": {},
   "outputs": [
    {
     "name": "stdout",
     "output_type": "stream",
     "text": [
      "Mean Income in Each Cluster for 2 clusters:  [0.64837244 0.46385884]\n",
      "Number in Each Cluster for 2 clusters [1505, 4172]\n",
      "    AGE_REF  BLS_URBN  CUTENURE  EARNCOMP  EDUC_REF  EMPLTYP1  FAM_SIZE  \\\n",
      "0 -0.170284 -0.080684 -0.377771 -0.151551  0.244484  0.059325  0.717304   \n",
      "1  0.061372  0.029080  0.136153  0.054621 -0.088115 -0.021381 -0.258525   \n",
      "\n",
      "   FAM_TYPE      FGVX     FIRAX  ...  PET_FOOD  PERSPROD  PERSSERV  DRUGSUPP  \\\n",
      "0 -0.407879  0.150884  0.106859  ...  0.196588  0.297071  0.224397  0.060211   \n",
      "1  0.147005 -0.054380 -0.038513  ... -0.070853 -0.107068 -0.080875 -0.021701   \n",
      "\n",
      "   HOUSKEEP  CHILDAGE     STATE  INTRDVXM  ROYESTXM  HISP_REF  \n",
      "0  0.395405  0.491830  0.011154    0.0763  0.004087 -0.055334  \n",
      "1 -0.142509 -0.177261 -0.004020   -0.0275 -0.001473  0.019943  \n",
      "\n",
      "[2 rows x 57 columns]\n",
      "\n",
      "Mean Income in Each Cluster for 3 clusters:  [0.64298756 0.5906196  0.38614268]\n",
      "Number in Each Cluster for 3 clusters [858, 2438, 2381]\n",
      "    AGE_REF  BLS_URBN  CUTENURE  EARNCOMP  EDUC_REF  EMPLTYP1  FAM_SIZE  \\\n",
      "0 -0.155265 -0.104547 -0.375378 -0.133185  0.268144  0.066370  0.705234   \n",
      "1  0.064107  0.044984 -0.315992 -0.042859  0.055412  0.034509  0.379792   \n",
      "2 -0.009692 -0.008387  0.458825  0.091878 -0.153365 -0.059252 -0.643017   \n",
      "\n",
      "   FAM_TYPE      FGVX     FIRAX  ...  PET_FOOD  PERSPROD  PERSSERV  DRUGSUPP  \\\n",
      "0 -0.303403  0.105449  0.142915  ...  0.266108  0.401901  0.284513  0.089356   \n",
      "1 -0.749021  0.043268  0.017003  ...  0.005200  0.015834  0.023442  0.014138   \n",
      "2  0.876284 -0.082302 -0.068909  ... -0.101217 -0.161040 -0.126528 -0.046677   \n",
      "\n",
      "   HOUSKEEP  CHILDAGE     STATE  INTRDVXM  ROYESTXM  HISP_REF  \n",
      "0  0.550072  0.483230 -0.019458  0.064644  0.001044 -0.044794  \n",
      "1  0.011043  0.184086  0.049079  0.078439 -0.028414  0.019104  \n",
      "2 -0.209528 -0.362626 -0.043242 -0.103611  0.028718 -0.003420  \n",
      "\n",
      "[3 rows x 57 columns]\n",
      "\n",
      "Mean Income in Each Cluster for 4 clusters:  [0.63133097 0.64522602 0.42313041 0.39487338]\n",
      "Number in Each Cluster for 4 clusters [1832, 759, 1632, 1454]\n",
      "    AGE_REF  BLS_URBN  CUTENURE  EARNCOMP  EDUC_REF  EMPLTYP1  FAM_SIZE  \\\n",
      "0 -0.346871 -0.008124 -0.314695 -0.392608  0.100378  0.027383  0.655532   \n",
      "1 -0.158930 -0.108326 -0.379394 -0.150574  0.303298  0.065613  0.699213   \n",
      "2 -0.562110 -0.110266  0.609985 -0.469854 -0.038022 -0.103404 -0.595491   \n",
      "3  1.150935  0.190549 -0.090106  1.100650 -0.242122  0.047310 -0.522556   \n",
      "\n",
      "   FAM_TYPE      FGVX     FIRAX  ...  PET_FOOD  PERSPROD  PERSSERV  DRUGSUPP  \\\n",
      "0 -0.586732  0.117034  0.075141  ...  0.029593  0.023483  0.031299 -0.022493   \n",
      "1 -0.301620  0.099260  0.123181  ...  0.278850  0.440956  0.316471  0.099483   \n",
      "2  0.886461 -0.053297 -0.056995  ... -0.098912 -0.140915 -0.128114 -0.070982   \n",
      "3 -0.098268 -0.139452 -0.095005  ... -0.071827 -0.101604 -0.060839  0.056081   \n",
      "\n",
      "   HOUSKEEP  CHILDAGE     STATE  INTRDVXM  ROYESTXM  HISP_REF  \n",
      "0 -0.008833  0.475491  0.046716 -0.016585 -0.005578 -0.113681  \n",
      "1  0.602209  0.474739 -0.021758  0.101428 -0.004995 -0.008510  \n",
      "2 -0.218657 -0.358359 -0.012528 -0.124515  0.034631 -0.060021  \n",
      "3 -0.057803 -0.444693 -0.033441  0.107708 -0.029234  0.215046  \n",
      "\n",
      "[4 rows x 57 columns]\n",
      "\n",
      "Mean Income in Each Cluster for 5 clusters:  [0.64185097 0.42435729 0.64380658 0.40051282 0.45378982]\n",
      "Number in Each Cluster for 5 clusters [1651, 1533, 717, 1253, 523]\n",
      "    AGE_REF  BLS_URBN  CUTENURE  EARNCOMP  EDUC_REF  EMPLTYP1  FAM_SIZE  \\\n",
      "0 -0.360802 -0.273835 -0.302012 -0.384324  0.155977  0.022638  0.685104   \n",
      "1 -0.576349 -0.273835  0.630771 -0.460941 -0.012176 -0.115999 -0.594094   \n",
      "2 -0.167482 -0.180758 -0.361816 -0.163373  0.311201  0.073171  0.711309   \n",
      "3  1.187691 -0.273835 -0.097741  1.112366 -0.201332  0.038758 -0.523113   \n",
      "4  0.212497  2.570958 -0.165312  0.123299 -0.400982  0.075380 -0.143227   \n",
      "\n",
      "   FAM_TYPE      FGVX     FIRAX  ...  PET_FOOD  PERSPROD  PERSSERV  DRUGSUPP  \\\n",
      "0 -0.581464  0.126361  0.093593  ...  0.014765  0.032435  0.049108 -0.019413   \n",
      "1  0.879618 -0.047342 -0.056368  ... -0.097415 -0.134993 -0.120818 -0.070690   \n",
      "2 -0.289060  0.099894  0.137698  ...  0.266678  0.428675  0.322382  0.104521   \n",
      "3 -0.111623 -0.141918 -0.091159  ... -0.073851 -0.078433 -0.037538  0.065289   \n",
      "4 -0.079038 -0.057070 -0.100608  ...  0.050263 -0.106480 -0.152918 -0.031224   \n",
      "\n",
      "   HOUSKEEP  CHILDAGE     STATE  INTRDVXM  ROYESTXM  HISP_REF  \n",
      "0  0.001230  0.493561  0.030109 -0.012004  0.000569 -0.147632  \n",
      "1 -0.222197 -0.355991 -0.028098 -0.128586  0.036867 -0.083404  \n",
      "2  0.616680  0.475022 -0.025668  0.092617  0.003104 -0.023714  \n",
      "3 -0.055047 -0.436679 -0.076605  0.141018 -0.004207  0.193819  \n",
      "4 -0.066135 -0.119634  0.206033 -0.050020 -0.104036  0.278675  \n",
      "\n",
      "[5 rows x 57 columns]\n",
      "\n",
      "Mean Income in Each Cluster for 6 clusters:  [0.66777827 0.42651185 0.45487207 0.38753063 0.59603736 0.63189551]\n",
      "Number in Each Cluster for 6 clusters [1044, 1422, 480, 1191, 1273, 267]\n",
      "    AGE_REF  BLS_URBN  CUTENURE  EARNCOMP  EDUC_REF  EMPLTYP1  FAM_SIZE  \\\n",
      "0 -0.076335 -0.258780 -0.385814 -0.207018  0.356183  0.104860  0.311536   \n",
      "1 -0.606260 -0.273835  0.649686 -0.517268  0.021524 -0.115194 -0.645287   \n",
      "2  0.215366  2.850340 -0.164212  0.128988 -0.372925  0.091935 -0.155120   \n",
      "3  1.192916 -0.273835 -0.059794  1.158739 -0.227264  0.032176 -0.564411   \n",
      "4 -0.403242 -0.273835 -0.217204 -0.341300 -0.020300 -0.034681  0.815363   \n",
      "5 -0.257805 -0.127355 -0.354150 -0.209036  0.273922  0.060209  1.124551   \n",
      "\n",
      "   FAM_TYPE      FGVX     FIRAX  ...  PET_FOOD  PERSPROD  PERSSERV  DRUGSUPP  \\\n",
      "0 -0.455051  0.133218  0.146537  ...  0.165355  0.311228  0.343759  0.080396   \n",
      "1  0.885835 -0.044812 -0.055786  ... -0.093184 -0.119637 -0.113168 -0.070921   \n",
      "2 -0.096334 -0.049147 -0.095706  ...  0.060056 -0.114719 -0.156078 -0.026803   \n",
      "3 -0.067290 -0.141732 -0.097458  ... -0.100394 -0.111127 -0.064764  0.063589   \n",
      "4 -0.456228  0.058605  0.039202  ... -0.040980 -0.074534 -0.069707 -0.053413   \n",
      "5 -0.290586  0.158828  0.144023  ...  0.384147  0.476912  0.161095  0.082548   \n",
      "\n",
      "   HOUSKEEP  CHILDAGE     STATE  INTRDVXM  ROYESTXM  HISP_REF  \n",
      "0  0.449129  0.219773  0.010765  0.149555  0.019981  0.074944  \n",
      "1 -0.232955 -0.412239 -0.041567 -0.127412  0.039745 -0.045866  \n",
      "2 -0.057869 -0.148836  0.227108 -0.040634 -0.113356  0.317690  \n",
      "3 -0.098863 -0.467854 -0.078207  0.082454 -0.003062  0.213224  \n",
      "4 -0.127849  0.625429  0.033159 -0.037673 -0.008006 -0.305362  \n",
      "5  0.638419  0.706961 -0.038050 -0.020698 -0.033985 -0.114401  \n",
      "\n",
      "[6 rows x 57 columns]\n",
      "\n",
      "Mean Income in Each Cluster for 7 clusters:  [0.65803117 0.45217544 0.43171824 0.62830028 0.59323645 0.86248601\n",
      " 0.37609812]\n",
      "Number in Each Cluster for 7 clusters [1037, 472, 1391, 261, 1252, 67, 1197]\n",
      "    AGE_REF  BLS_URBN  CUTENURE  EARNCOMP  EDUC_REF  EMPLTYP1  FAM_SIZE  \\\n",
      "0 -0.101012 -0.262479 -0.377253 -0.203755  0.325493  0.084424  0.332501   \n",
      "1  0.215697  2.894975 -0.164692  0.133615 -0.375410  0.094209 -0.146754   \n",
      "2 -0.626570 -0.273835  0.638914 -0.562362  0.039019 -0.124050 -0.641464   \n",
      "3 -0.268791 -0.123427 -0.348798 -0.214121  0.264969  0.049340  1.136172   \n",
      "4 -0.393020 -0.273835 -0.216986 -0.336145 -0.017477 -0.027002  0.805237   \n",
      "5  0.495826 -0.156651 -0.478053 -0.117281  0.605289  0.552598  0.040893   \n",
      "6  1.172510 -0.273835 -0.020928  1.182181 -0.252673  0.020421 -0.577023   \n",
      "\n",
      "   FAM_TYPE      FGVX     FIRAX  ...  PET_FOOD  PERSPROD  PERSSERV  DRUGSUPP  \\\n",
      "0 -0.427146  0.121807  0.102468  ...  0.160580  0.289846  0.309304  0.077713   \n",
      "1 -0.108568 -0.047514 -0.094860  ...  0.074488 -0.113307 -0.154334 -0.026835   \n",
      "2  0.892066 -0.037321 -0.051355  ... -0.090825 -0.113606 -0.110609 -0.071006   \n",
      "3 -0.310447  0.166990  0.138273  ...  0.376040  0.474712  0.166285  0.082958   \n",
      "4 -0.466365  0.047793  0.035525  ... -0.041880 -0.074282 -0.062014 -0.054773   \n",
      "5 -0.748297  0.213157  0.658881  ...  0.003991  0.392342  0.351142  0.037976   \n",
      "6 -0.026415 -0.141751 -0.095875  ... -0.101356 -0.122179 -0.069616  0.062845   \n",
      "\n",
      "   HOUSKEEP  CHILDAGE     STATE  INTRDVXM  ROYESTXM  HISP_REF  \n",
      "0  0.413605  0.254761  0.016079 -0.093319  0.020096  0.053223  \n",
      "1 -0.027220 -0.143488  0.230923 -0.095616 -0.089782  0.316442  \n",
      "2 -0.226868 -0.413193 -0.048463 -0.144694  0.040631 -0.051374  \n",
      "3  0.602166  0.686507 -0.046359 -0.091696 -0.034896 -0.116676  \n",
      "4 -0.127632  0.616598  0.030624 -0.121187 -0.008140 -0.305281  \n",
      "5  0.348993 -0.192054  0.083822  8.465226  0.140479  0.391355  \n",
      "6 -0.101286 -0.467837 -0.075284 -0.040385 -0.020963  0.211655  \n",
      "\n",
      "[7 rows x 57 columns]\n",
      "\n"
     ]
    }
   ],
   "source": [
    "for num_clusters in [2,3,4,5,6,7]:\n",
    "    km = cluster.KMeans(n_clusters=num_clusters, init=\"k-means++\")\n",
    "    clusters = km.fit_predict(X_standardized)\n",
    "\n",
    "    mean_income_in_each_cluster = [0 for i in range(num_clusters)]\n",
    "    number_in_each_cluster = [0 for i in range(num_clusters)]\n",
    "\n",
    "    for in_i, cluster_assignment in enumerate(clusters):\n",
    "        mean_income_in_each_cluster[cluster_assignment] = mean_income_in_each_cluster[cluster_assignment]+labels[in_i]\n",
    "        number_in_each_cluster[cluster_assignment] += 1\n",
    "\n",
    "    mean_income_in_each_cluster = np.array(mean_income_in_each_cluster)/np.array(number_in_each_cluster)\n",
    "    print(\"Mean Income in Each Cluster for\", num_clusters, \"clusters: \", mean_income_in_each_cluster)\n",
    "    print(\"Number in Each Cluster for\", num_clusters, \"clusters\", number_in_each_cluster)\n",
    "    print()\n",
    "    "
   ]
  },
  {
   "cell_type": "markdown",
   "metadata": {},
   "source": [
    "### GMM"
   ]
  },
  {
   "cell_type": "code",
   "execution_count": null,
   "metadata": {},
   "outputs": [],
   "source": []
  },
  {
   "cell_type": "markdown",
   "metadata": {},
   "source": [
    "## Supervised Learning"
   ]
  },
  {
   "cell_type": "markdown",
   "metadata": {},
   "source": [
    "### SVM"
   ]
  },
  {
   "cell_type": "code",
   "execution_count": 46,
   "metadata": {},
   "outputs": [],
   "source": [
    "def split_list(a_list):\n",
    "    half = 5000\n",
    "    return a_list[:half], a_list[half:]\n"
   ]
  },
  {
   "cell_type": "code",
   "execution_count": 77,
   "metadata": {},
   "outputs": [
    {
     "name": "stdout",
     "output_type": "stream",
     "text": [
      "[1 2 3 4]\n",
      "The training accuracy is:  0.9057142857142857\n",
      "The test accuracy is:  0.4675324675324675\n",
      "The test precision is:  0.4675324675324675\n"
     ]
    }
   ],
   "source": [
    "from sklearn.svm import SVC\n",
    "from sklearn.metrics import precision_score\n",
    "from sklearn.multiclass import OneVsRestClassifier\n",
    "\n",
    "xtr,xts = split_list(X_standardized)\n",
    "ytr,yts = split_list(labels)\n",
    "\n",
    "bins = np.array([0., 0.25, 0.5, 0.75])\n",
    "\n",
    "classes_train = np.digitize(ytr, bins)\n",
    "classes_test = np.digitize(yts, bins)\n",
    "print(np.unique(classes_train))\n",
    "\n",
    "classifier = OneVsRestClassifier(SVC(C=5, kernel=\"rbf\",gamma=\"scale\")).fit(xtr, classes_train)\n",
    "y_pred = classifier.predict(xts)\n",
    "print(\"The training accuracy is: \", classifier.score(xtr, classes_train))\n",
    "print(\"The test accuracy is: \", classifier.score(xts, classes_test))\n",
    "print(\"The test precision is: \", precision_score(classes_test, y_pred, average=\"micro\"))\n"
   ]
  },
  {
   "cell_type": "code",
   "execution_count": null,
   "metadata": {},
   "outputs": [],
   "source": []
  }
 ],
 "metadata": {
  "kernelspec": {
   "display_name": "Python 3",
   "language": "python",
   "name": "python3"
  },
  "language_info": {
   "codemirror_mode": {
    "name": "ipython",
    "version": 3
   },
   "file_extension": ".py",
   "mimetype": "text/x-python",
   "name": "python",
   "nbconvert_exporter": "python",
   "pygments_lexer": "ipython3",
   "version": "3.7.0"
  }
 },
 "nbformat": 4,
 "nbformat_minor": 2
}
