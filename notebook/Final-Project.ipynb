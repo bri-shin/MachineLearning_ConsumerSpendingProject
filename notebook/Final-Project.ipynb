{
 "cells": [
  {
   "cell_type": "markdown",
   "metadata": {},
   "source": [
    "# Mapping Spending Habits to Income Brackets"
   ]
  },
  {
   "cell_type": "markdown",
   "metadata": {},
   "source": [
    "## Part 1: CLEANING THE DATA"
   ]
  },
  {
   "cell_type": "code",
   "execution_count": 1,
   "metadata": {},
   "outputs": [],
   "source": [
    "import pandas as pd\n",
    "import numpy as np"
   ]
  },
  {
   "cell_type": "code",
   "execution_count": 2,
   "metadata": {},
   "outputs": [
    {
     "name": "stderr",
     "output_type": "stream",
     "text": [
      "/share/apps/jupyterhub/2019-FA-DS-GA-3001/lib/python3.7/site-packages/IPython/core/interactiveshell.py:3057: DtypeWarning: Columns (3) have mixed types. Specify dtype option on import or set low_memory=False.\n",
      "  interactivity=interactivity, compiler=compiler, result=result)\n"
     ]
    }
   ],
   "source": [
    "data = pd.read_csv(\"fmld_merged - fmld_merged (4).csv\")"
   ]
  },
  {
   "cell_type": "code",
   "execution_count": 3,
   "metadata": {},
   "outputs": [],
   "source": [
    "to_drop = [\"HISP2\", \"DIVISION\",'RETSURVX','RETSURVM',\"OTHREGXM\",\"FSMPFRXM\", \"HIGH_EDU\", \"WELFRBX\",\"JFS_AMTM\", \"JFS_AMT1\", \"JFS_AMT2\", 'JFS_AMT3', 'JFS_AMT4', 'JFS_AMT5', \"FSS_RRXM\",\"FINCBEFM\", \"CUID\",\"FOODTOT\", \"STRTYEAR\", \"JFS_AMT\", \"JGROCYWK\", \"JGRCFDWK\",\"FWAGEX\",\"FSS_RRX\",\"FPVTX\",\"FJSSDEDX\",\"FINCBEFX\",\"INC_RNKM\",\"FWAGEXI\", \"FWAGEXM\", \"SEX_REF_\",\"SEX2\", \"STRTMNTH\", \"LUMPBX_\", \"LUMPBX\", \"LUMPBX_\", \"OTHINB\", \"OTHINB_\", \"OTHINBX\", \"OTHINBX_\", \"WELFRB\", \"WELFRB_\", \"PSU\", \"FSMPFRMX\", \"FSMPFRMX\", \"FSMP_RMX\", \"FSMPFRX1\", \"FSMPFRX2\", \"FSMPFRX3\", \"FSMPFRX4\", \"FSMPFRX5\", \"TYPOWND\" , \"TYPOWND_\", \"VEHQ_\",\"WEEKI\", \"WEEKI_\", \"WEEKN\", \"WELFRX\",\"REF__ACE\", \"REC_FS_\", \"RACE2\", \"RACE2_\", \"OCCU_IS1\", \"PERS_T64\", \"PERS_T18\", \"OTHRECX\", \"OTHRECX_\", \"OTHINX\", \"OTHINX_\", \"OCCULIS2\", \"OCCU_IS2\", \"OCCEXPNX\", \"OCCE_PNX\", \"NO_E_RNR\", \"MARI_AL1\", \"LUMPX\", \"LUMPX_\", \"JGRO_YWK\", \"JGRO_YMV\", \"JGRC_DWK\", \"JGRC_DMV\", \"JFS_AMT_\", \"HRSP_WK1\", \"HRSPRWK2\", \"HRSP_WK2\", \"FWAGEX_\", \"FSUPPX\", \"FSUPPX_\", \"FSS_RRX_\", \"FS_MTHI\", \"FS_MTHI_\", \"FRRX_\", \"FREEMLX\", \"FREEMLX_\", \"FPVTX_\", \"FJSS_EDX\", \"FIRAX_\", \"FINC_EFX\", \"FINLWT21\", \"FGVX_\", \"FAM__YPE\", \"FAM__IZE\", \"EMPL_YP2\", \"EMPLTYP2\", \"EMPL_YP1\", \"EDUC0REF\", \"EDUCA2\", \"EDUCA2_\", \"EARN_OMP\", \"DESCRIP_\", \"DESCRIP\", \"CUTE_URE\", \"AGE2\", \"AGE2_\", \"AGE_REF_\", \"INC_RNK5\", \"INC_RNK4\", \"INC_RNK3\", \"INC_RNK2\", \"INC_RNK1\", \"FRRX\", \"FRRX_\", \"OTHREGB\", \"OTHREGBX\", \"OTHREGX\", \"RETSRVBX\", \"RETSURVB\", \"ROYESTB\", \"FJSSDEDM\", \"REFGEN\", \"FS_AMTXM\", \"FS_AMTXM\", \"ROYESTBX\", \"ROYESTX\", \"ROYESTX1\", \"ROYESTX2\", \"ROYESTX3\", \"ROYESTX4\", \"ROYESTX5\", \"ROYESTXI\", \"RETSURV1\", \"RETSURV2\", \"RETSURV3\", \"RETSURV4\", \"RETSURV5\", \"RETSURVI\", \"OTHREGX1\", \"OTHREGX2\", \"OTHREGX3\", \"OTHREGX4\", \"OTHREGX5\", \"OTHREGXI\", \"NETR_NTX\", \"NETR_TBX\", \"OTHREGB_\", \"OTHR_GBX\", \"OTHREGX_\", \"RETS_VBX\", \"RETS_RVB\", \"RETS_RVX\", \"ROYESTB_\", \"ROYE_TBX\", \"ROYESTX_\", \"FSMP_RXM\", \"INTR_VXM\", \"NETR_NTM\", \"OTHR_GXM\", \"RETS_RVM\", \"ROYE_TXM\", \"NETRENT1\", \"NETRENT2\", \"NETRENT3\", \"NETRENT4\", \"NETRENT5\", \"NETRENTI\", \"FSMPFRXI\", \"INTRDVB_\", \"INTR_VBX\", \"NETRENTB\", \"NETR_NTB\", \"INTRDVX\", \"INTRDVX_\", \"INTRDVX1\", \"INTRDVX2\", \"INTRDVX3\", \"INTRDVX4\", \"INTRDVX5\", \"INTRDVXI\", \"WHYNWRK1\", \"WHYN_RK1\", \"WHYNWRK2\", \"WHYN_RK2\", \"WK_WRKD1\", \"WK_W_KD1\", \"WK_WRKD2\", \"WK_W_KD2\", \"INTRDVB\", \"INTRDVBX\", \"WTREP01\", \"WTREP02\", \"WTREP03\", \"WTREP04\", \"WTREP05\", \"WTREP06\", \"WTREP07\", \"WTREP08\", \"WTREP09\", \"WTREP10\", \"WTREP11\", \"NETRENTM\", \"NETRENTX\", \"NETRNTBX\", \"WTREP12\", \"WTREP13\", \"WTREP14\", \"WTREP15\", \"WTREP16\", \"WTREP17\", \"WTREP18\", \"WTREP19\", \"WTREP20\", \"WTREP21\", \"WTREP22\", \"WTREP23\", \"WTREP24\", \"WTREP25\", \"WTREP26\", \"WTREP27\", \"WTREP28\", \"WTREP29\", \"WTREP30\", \"WTREP31\", \"WTREP32\", \"WTREP33\", \"WTREP34\", \"WTREP35\", \"WTREP36\", \"WTREP37\", \"WTREP38\", \"WTREP39\", \"WTREP40\", \"WTREP41\", \"WTREP42\", \"WTREP43\", \"WTREP44\", \"HH_CU_Q\", \"HH_CU_Q_\", \"HHID\", \"HHID_\", \"CHIL_AGE\", \"INC__ANK\", \"HORREF1\", \"HORREF1_\", \"HORREF2\", \"HORREF2_\", \"FGVXM\", \"FGVXM_\", \"FINC_EFM\", \"FINCBEF1\", \"FINCBEF2\", \"FINCBEF3\", \"FINCBEF4\", \"FINCBEF5\", \"FINCBEFI\", \"FJSS_EDM\", \"FJSSDED1\", \"FJSSDED2\", \"FJSSDED3\", \"FJSSDED4\", \"FJSSDED5\", \"FPVTXM\", \"FPVTXM_\", \"FRRXM\", \"FRRXM_\", \"FS_A_TXM\", \"FS_AMTX1\", \"FS_AMTX2\", \"FS_AMTX3\", \"FS_AMTX4\", \"FS_AMTX5\", \"FS_AMTXI\", \"FSS__RXM\", \"FSS_RRX1\", \"FSS_RRX2\", \"FSS_RRX3\", \"FSS_RRX4\", \"FSS_RRX5\", \"FSS_RRXI\", \"FSUPPXM\", \"FSUPPXM_\", \"FSUPPX1\", \"FSUPPX2\", \"FSUPPX3\", \"FSUPPX4\", \"FSUPPX5\", \"FSUPPXI\", \"FWAGEXM_\", \"FWAGEX1\", \"FWAGEX2\", \"FWAGEX3\", \"FWAGEX4\", \"FWAGEX5\", \"OTHINXM\", \"OTHINXM_\", \"OTHINX1\", \"OTHINX2\", \"OTHINX3\", \"OTHINX4\", \"OTHINX5\", \"OTHINXI\", \"WELFRXM\", \"WELFRXM_\", \"WELFRX1\", \"WELFRX2\", \"WELFRX3\", \"WELFRX4\", \"WELFRX5\", \"WELFRXI\", \"PICKCODE\", \"LUMPB\", \"LUMPB_\", \"LUMPBX\"]"
   ]
  },
  {
   "cell_type": "code",
   "execution_count": 4,
   "metadata": {},
   "outputs": [],
   "source": [
    "data = data.drop(to_drop, axis=1)"
   ]
  },
  {
   "cell_type": "code",
   "execution_count": 5,
   "metadata": {},
   "outputs": [],
   "source": [
    "# sorting by first name \n",
    "data.sort_values(\"NEWID\", inplace = True) "
   ]
  },
  {
   "cell_type": "code",
   "execution_count": 6,
   "metadata": {},
   "outputs": [],
   "source": [
    "data.drop_duplicates(subset =\"NEWID\", \n",
    "                     keep = False, inplace = True) \n",
    "\n",
    "# We no longer need the new id\n",
    "data = data.drop(\"NEWID\", axis=1)"
   ]
  },
  {
   "cell_type": "code",
   "execution_count": 7,
   "metadata": {},
   "outputs": [
    {
     "data": {
      "text/plain": [
       "(5677, 63)"
      ]
     },
     "execution_count": 7,
     "metadata": {},
     "output_type": "execute_result"
    }
   ],
   "source": [
    "data.shape"
   ]
  },
  {
   "cell_type": "code",
   "execution_count": 8,
   "metadata": {},
   "outputs": [],
   "source": [
    "# to fill with zeroes\n",
    "zeros = ['INTRDVXM']"
   ]
  },
  {
   "cell_type": "code",
   "execution_count": 9,
   "metadata": {},
   "outputs": [
    {
     "data": {
      "text/html": [
       "<div>\n",
       "<style scoped>\n",
       "    .dataframe tbody tr th:only-of-type {\n",
       "        vertical-align: middle;\n",
       "    }\n",
       "\n",
       "    .dataframe tbody tr th {\n",
       "        vertical-align: top;\n",
       "    }\n",
       "\n",
       "    .dataframe thead th {\n",
       "        text-align: right;\n",
       "    }\n",
       "</style>\n",
       "<table border=\"1\" class=\"dataframe\">\n",
       "  <thead>\n",
       "    <tr style=\"text-align: right;\">\n",
       "      <th></th>\n",
       "      <th>INC_RANK</th>\n",
       "      <th>AGE_REF</th>\n",
       "      <th>BLS_URBN</th>\n",
       "      <th>CUTENURE</th>\n",
       "      <th>EARNCOMP</th>\n",
       "      <th>EDUC_REF</th>\n",
       "      <th>EMPLTYP1</th>\n",
       "      <th>FAM_SIZE</th>\n",
       "      <th>FAM_TYPE</th>\n",
       "      <th>FGVX</th>\n",
       "      <th>...</th>\n",
       "      <th>DRUGSUPP</th>\n",
       "      <th>HOUSKEEP</th>\n",
       "      <th>CHILDAGE</th>\n",
       "      <th>STATE</th>\n",
       "      <th>INC__NKM</th>\n",
       "      <th>JFS__MTM</th>\n",
       "      <th>WELFRBX_</th>\n",
       "      <th>INTRDVXM</th>\n",
       "      <th>ROYESTXM</th>\n",
       "      <th>HISP_REF</th>\n",
       "    </tr>\n",
       "  </thead>\n",
       "  <tbody>\n",
       "    <tr>\n",
       "      <td>2896</td>\n",
       "      <td>0.763567</td>\n",
       "      <td>36</td>\n",
       "      <td>1</td>\n",
       "      <td>1</td>\n",
       "      <td>1</td>\n",
       "      <td>14</td>\n",
       "      <td>1.0</td>\n",
       "      <td>2</td>\n",
       "      <td>1</td>\n",
       "      <td>0</td>\n",
       "      <td>...</td>\n",
       "      <td>0.00000</td>\n",
       "      <td>22.95</td>\n",
       "      <td>0</td>\n",
       "      <td>55.0</td>\n",
       "      <td>D</td>\n",
       "      <td>D</td>\n",
       "      <td>A</td>\n",
       "      <td>0.0</td>\n",
       "      <td>NaN</td>\n",
       "      <td>2</td>\n",
       "    </tr>\n",
       "    <tr>\n",
       "      <td>2897</td>\n",
       "      <td>0.765380</td>\n",
       "      <td>36</td>\n",
       "      <td>1</td>\n",
       "      <td>1</td>\n",
       "      <td>1</td>\n",
       "      <td>14</td>\n",
       "      <td>1.0</td>\n",
       "      <td>2</td>\n",
       "      <td>1</td>\n",
       "      <td>0</td>\n",
       "      <td>...</td>\n",
       "      <td>131.22148</td>\n",
       "      <td>3.43</td>\n",
       "      <td>0</td>\n",
       "      <td>55.0</td>\n",
       "      <td>D</td>\n",
       "      <td>D</td>\n",
       "      <td>A</td>\n",
       "      <td>0.0</td>\n",
       "      <td>NaN</td>\n",
       "      <td>2</td>\n",
       "    </tr>\n",
       "    <tr>\n",
       "      <td>2898</td>\n",
       "      <td>0.048528</td>\n",
       "      <td>46</td>\n",
       "      <td>1</td>\n",
       "      <td>4</td>\n",
       "      <td>1</td>\n",
       "      <td>15</td>\n",
       "      <td>1.0</td>\n",
       "      <td>1</td>\n",
       "      <td>8</td>\n",
       "      <td>0</td>\n",
       "      <td>...</td>\n",
       "      <td>0.00000</td>\n",
       "      <td>0.00</td>\n",
       "      <td>0</td>\n",
       "      <td>15.0</td>\n",
       "      <td>D</td>\n",
       "      <td>D</td>\n",
       "      <td>A</td>\n",
       "      <td>0.0</td>\n",
       "      <td>NaN</td>\n",
       "      <td>2</td>\n",
       "    </tr>\n",
       "    <tr>\n",
       "      <td>2899</td>\n",
       "      <td>0.033748</td>\n",
       "      <td>46</td>\n",
       "      <td>1</td>\n",
       "      <td>4</td>\n",
       "      <td>1</td>\n",
       "      <td>15</td>\n",
       "      <td>1.0</td>\n",
       "      <td>1</td>\n",
       "      <td>8</td>\n",
       "      <td>0</td>\n",
       "      <td>...</td>\n",
       "      <td>0.00000</td>\n",
       "      <td>0.00</td>\n",
       "      <td>0</td>\n",
       "      <td>15.0</td>\n",
       "      <td>D</td>\n",
       "      <td>D</td>\n",
       "      <td>A</td>\n",
       "      <td>0.0</td>\n",
       "      <td>NaN</td>\n",
       "      <td>2</td>\n",
       "    </tr>\n",
       "    <tr>\n",
       "      <td>2900</td>\n",
       "      <td>0.331063</td>\n",
       "      <td>74</td>\n",
       "      <td>1</td>\n",
       "      <td>4</td>\n",
       "      <td>8</td>\n",
       "      <td>12</td>\n",
       "      <td>NaN</td>\n",
       "      <td>2</td>\n",
       "      <td>1</td>\n",
       "      <td>0</td>\n",
       "      <td>...</td>\n",
       "      <td>0.00000</td>\n",
       "      <td>0.00</td>\n",
       "      <td>0</td>\n",
       "      <td>36.0</td>\n",
       "      <td>D</td>\n",
       "      <td>D</td>\n",
       "      <td>A</td>\n",
       "      <td>3000.0</td>\n",
       "      <td>NaN</td>\n",
       "      <td>2</td>\n",
       "    </tr>\n",
       "  </tbody>\n",
       "</table>\n",
       "<p>5 rows × 63 columns</p>\n",
       "</div>"
      ],
      "text/plain": [
       "      INC_RANK  AGE_REF  BLS_URBN  CUTENURE  EARNCOMP  EDUC_REF  EMPLTYP1  \\\n",
       "2896  0.763567       36         1         1         1        14       1.0   \n",
       "2897  0.765380       36         1         1         1        14       1.0   \n",
       "2898  0.048528       46         1         4         1        15       1.0   \n",
       "2899  0.033748       46         1         4         1        15       1.0   \n",
       "2900  0.331063       74         1         4         8        12       NaN   \n",
       "\n",
       "      FAM_SIZE  FAM_TYPE  FGVX  ...   DRUGSUPP  HOUSKEEP  CHILDAGE  STATE  \\\n",
       "2896         2         1     0  ...    0.00000     22.95         0   55.0   \n",
       "2897         2         1     0  ...  131.22148      3.43         0   55.0   \n",
       "2898         1         8     0  ...    0.00000      0.00         0   15.0   \n",
       "2899         1         8     0  ...    0.00000      0.00         0   15.0   \n",
       "2900         2         1     0  ...    0.00000      0.00         0   36.0   \n",
       "\n",
       "      INC__NKM  JFS__MTM  WELFRBX_  INTRDVXM  ROYESTXM  HISP_REF  \n",
       "2896         D         D         A       0.0       NaN         2  \n",
       "2897         D         D         A       0.0       NaN         2  \n",
       "2898         D         D         A       0.0       NaN         2  \n",
       "2899         D         D         A       0.0       NaN         2  \n",
       "2900         D         D         A    3000.0       NaN         2  \n",
       "\n",
       "[5 rows x 63 columns]"
      ]
     },
     "execution_count": 9,
     "metadata": {},
     "output_type": "execute_result"
    }
   ],
   "source": [
    "for col in zeros:\n",
    "    data[col] = data[col].fillna(0)\n",
    "data.head()"
   ]
  },
  {
   "cell_type": "code",
   "execution_count": 10,
   "metadata": {},
   "outputs": [],
   "source": [
    "# Dropping all non numeric values\n",
    "drop_list = []\n",
    "for column in data.columns:\n",
    "    if data[column].dtype not in [\"float64\", \"int64\"]:\n",
    "        drop_list.append(column)\n",
    "data = data.drop(drop_list, axis=1)"
   ]
  },
  {
   "cell_type": "code",
   "execution_count": 11,
   "metadata": {},
   "outputs": [],
   "source": [
    "# Changing the remaining na values to mean\n",
    "data = data.fillna(data.mean())"
   ]
  },
  {
   "cell_type": "code",
   "execution_count": 12,
   "metadata": {},
   "outputs": [],
   "source": [
    "labels = np.array(data['INC_RANK'].tolist())"
   ]
  },
  {
   "cell_type": "code",
   "execution_count": 13,
   "metadata": {},
   "outputs": [
    {
     "data": {
      "text/plain": [
       "array([0.7635665, 0.7653797, 0.0485282, ..., 0.4852189, 0.4376007,\n",
       "       0.4407932])"
      ]
     },
     "execution_count": 13,
     "metadata": {},
     "output_type": "execute_result"
    }
   ],
   "source": [
    "labels"
   ]
  },
  {
   "cell_type": "code",
   "execution_count": 14,
   "metadata": {},
   "outputs": [],
   "source": [
    "data_without_labels = data.drop('INC_RANK', axis=1)"
   ]
  },
  {
   "cell_type": "code",
   "execution_count": 15,
   "metadata": {},
   "outputs": [
    {
     "data": {
      "text/html": [
       "<div>\n",
       "<style scoped>\n",
       "    .dataframe tbody tr th:only-of-type {\n",
       "        vertical-align: middle;\n",
       "    }\n",
       "\n",
       "    .dataframe tbody tr th {\n",
       "        vertical-align: top;\n",
       "    }\n",
       "\n",
       "    .dataframe thead th {\n",
       "        text-align: right;\n",
       "    }\n",
       "</style>\n",
       "<table border=\"1\" class=\"dataframe\">\n",
       "  <thead>\n",
       "    <tr style=\"text-align: right;\">\n",
       "      <th></th>\n",
       "      <th>AGE_REF</th>\n",
       "      <th>BLS_URBN</th>\n",
       "      <th>CUTENURE</th>\n",
       "      <th>EARNCOMP</th>\n",
       "      <th>EDUC_REF</th>\n",
       "      <th>EMPLTYP1</th>\n",
       "      <th>FAM_SIZE</th>\n",
       "      <th>FAM_TYPE</th>\n",
       "      <th>FGVX</th>\n",
       "      <th>FIRAX</th>\n",
       "      <th>...</th>\n",
       "      <th>PET_FOOD</th>\n",
       "      <th>PERSPROD</th>\n",
       "      <th>PERSSERV</th>\n",
       "      <th>DRUGSUPP</th>\n",
       "      <th>HOUSKEEP</th>\n",
       "      <th>CHILDAGE</th>\n",
       "      <th>STATE</th>\n",
       "      <th>INTRDVXM</th>\n",
       "      <th>ROYESTXM</th>\n",
       "      <th>HISP_REF</th>\n",
       "    </tr>\n",
       "  </thead>\n",
       "  <tbody>\n",
       "    <tr>\n",
       "      <td>2896</td>\n",
       "      <td>36</td>\n",
       "      <td>1</td>\n",
       "      <td>1</td>\n",
       "      <td>1</td>\n",
       "      <td>14</td>\n",
       "      <td>1.000000</td>\n",
       "      <td>2</td>\n",
       "      <td>1</td>\n",
       "      <td>0</td>\n",
       "      <td>0</td>\n",
       "      <td>...</td>\n",
       "      <td>0.00</td>\n",
       "      <td>0.0</td>\n",
       "      <td>0.0</td>\n",
       "      <td>0.00000</td>\n",
       "      <td>22.95</td>\n",
       "      <td>0</td>\n",
       "      <td>55.0</td>\n",
       "      <td>0.0</td>\n",
       "      <td>16435.842857</td>\n",
       "      <td>2</td>\n",
       "    </tr>\n",
       "    <tr>\n",
       "      <td>2897</td>\n",
       "      <td>36</td>\n",
       "      <td>1</td>\n",
       "      <td>1</td>\n",
       "      <td>1</td>\n",
       "      <td>14</td>\n",
       "      <td>1.000000</td>\n",
       "      <td>2</td>\n",
       "      <td>1</td>\n",
       "      <td>0</td>\n",
       "      <td>0</td>\n",
       "      <td>...</td>\n",
       "      <td>31.52</td>\n",
       "      <td>0.0</td>\n",
       "      <td>0.0</td>\n",
       "      <td>131.22148</td>\n",
       "      <td>3.43</td>\n",
       "      <td>0</td>\n",
       "      <td>55.0</td>\n",
       "      <td>0.0</td>\n",
       "      <td>16435.842857</td>\n",
       "      <td>2</td>\n",
       "    </tr>\n",
       "    <tr>\n",
       "      <td>2898</td>\n",
       "      <td>46</td>\n",
       "      <td>1</td>\n",
       "      <td>4</td>\n",
       "      <td>1</td>\n",
       "      <td>15</td>\n",
       "      <td>1.000000</td>\n",
       "      <td>1</td>\n",
       "      <td>8</td>\n",
       "      <td>0</td>\n",
       "      <td>0</td>\n",
       "      <td>...</td>\n",
       "      <td>0.00</td>\n",
       "      <td>0.0</td>\n",
       "      <td>0.0</td>\n",
       "      <td>0.00000</td>\n",
       "      <td>0.00</td>\n",
       "      <td>0</td>\n",
       "      <td>15.0</td>\n",
       "      <td>0.0</td>\n",
       "      <td>16435.842857</td>\n",
       "      <td>2</td>\n",
       "    </tr>\n",
       "    <tr>\n",
       "      <td>2899</td>\n",
       "      <td>46</td>\n",
       "      <td>1</td>\n",
       "      <td>4</td>\n",
       "      <td>1</td>\n",
       "      <td>15</td>\n",
       "      <td>1.000000</td>\n",
       "      <td>1</td>\n",
       "      <td>8</td>\n",
       "      <td>0</td>\n",
       "      <td>0</td>\n",
       "      <td>...</td>\n",
       "      <td>0.00</td>\n",
       "      <td>0.0</td>\n",
       "      <td>0.0</td>\n",
       "      <td>0.00000</td>\n",
       "      <td>0.00</td>\n",
       "      <td>0</td>\n",
       "      <td>15.0</td>\n",
       "      <td>0.0</td>\n",
       "      <td>16435.842857</td>\n",
       "      <td>2</td>\n",
       "    </tr>\n",
       "    <tr>\n",
       "      <td>2900</td>\n",
       "      <td>74</td>\n",
       "      <td>1</td>\n",
       "      <td>4</td>\n",
       "      <td>8</td>\n",
       "      <td>12</td>\n",
       "      <td>1.729323</td>\n",
       "      <td>2</td>\n",
       "      <td>1</td>\n",
       "      <td>0</td>\n",
       "      <td>0</td>\n",
       "      <td>...</td>\n",
       "      <td>0.00</td>\n",
       "      <td>0.0</td>\n",
       "      <td>0.0</td>\n",
       "      <td>0.00000</td>\n",
       "      <td>0.00</td>\n",
       "      <td>0</td>\n",
       "      <td>36.0</td>\n",
       "      <td>3000.0</td>\n",
       "      <td>16435.842857</td>\n",
       "      <td>2</td>\n",
       "    </tr>\n",
       "  </tbody>\n",
       "</table>\n",
       "<p>5 rows × 57 columns</p>\n",
       "</div>"
      ],
      "text/plain": [
       "      AGE_REF  BLS_URBN  CUTENURE  EARNCOMP  EDUC_REF  EMPLTYP1  FAM_SIZE  \\\n",
       "2896       36         1         1         1        14  1.000000         2   \n",
       "2897       36         1         1         1        14  1.000000         2   \n",
       "2898       46         1         4         1        15  1.000000         1   \n",
       "2899       46         1         4         1        15  1.000000         1   \n",
       "2900       74         1         4         8        12  1.729323         2   \n",
       "\n",
       "      FAM_TYPE  FGVX  FIRAX  ...  PET_FOOD  PERSPROD  PERSSERV   DRUGSUPP  \\\n",
       "2896         1     0      0  ...      0.00       0.0       0.0    0.00000   \n",
       "2897         1     0      0  ...     31.52       0.0       0.0  131.22148   \n",
       "2898         8     0      0  ...      0.00       0.0       0.0    0.00000   \n",
       "2899         8     0      0  ...      0.00       0.0       0.0    0.00000   \n",
       "2900         1     0      0  ...      0.00       0.0       0.0    0.00000   \n",
       "\n",
       "      HOUSKEEP  CHILDAGE  STATE  INTRDVXM      ROYESTXM  HISP_REF  \n",
       "2896     22.95         0   55.0       0.0  16435.842857         2  \n",
       "2897      3.43         0   55.0       0.0  16435.842857         2  \n",
       "2898      0.00         0   15.0       0.0  16435.842857         2  \n",
       "2899      0.00         0   15.0       0.0  16435.842857         2  \n",
       "2900      0.00         0   36.0    3000.0  16435.842857         2  \n",
       "\n",
       "[5 rows x 57 columns]"
      ]
     },
     "execution_count": 15,
     "metadata": {},
     "output_type": "execute_result"
    }
   ],
   "source": [
    "data_without_labels.head()"
   ]
  },
  {
   "cell_type": "code",
   "execution_count": 16,
   "metadata": {},
   "outputs": [],
   "source": [
    "column_names = data_without_labels.columns\n",
    "X= data_without_labels.values"
   ]
  },
  {
   "cell_type": "code",
   "execution_count": 17,
   "metadata": {},
   "outputs": [
    {
     "name": "stdout",
     "output_type": "stream",
     "text": [
      "Index(['AGE_REF', 'BLS_URBN', 'CUTENURE', 'EARNCOMP', 'EDUC_REF', 'EMPLTYP1',\n",
      "       'FAM_SIZE', 'FAM_TYPE', 'FGVX', 'FIRAX', 'HRSPRWK1', 'JGRCFDMV',\n",
      "       'JGROCYMV', 'MARITAL1', 'NO_EARNR', 'PERSLT18', 'PERSOT64', 'OCCULIS1',\n",
      "       'POPSIZE', 'REC_FS', 'REF_RACE', 'REGION', 'SEX_REF', 'SMSASTAT',\n",
      "       'VEHQ', 'FOODHOME', 'CEREAL', 'BAKEPROD', 'BEEF', 'PORK', 'OTHMEAT',\n",
      "       'POULTRY', 'SEAFOOD', 'EGGS', 'MILKPROD', 'OTHDAIRY', 'FRSHFRUT',\n",
      "       'FRSHVEG', 'PROCFRUT', 'PROCVEG', 'SWEETS', 'NONALBEV', 'OILS',\n",
      "       'MISCFOOD', 'FOODAWAY', 'ALCBEV', 'SMOKSUPP', 'PET_FOOD', 'PERSPROD',\n",
      "       'PERSSERV', 'DRUGSUPP', 'HOUSKEEP', 'CHILDAGE', 'STATE', 'INTRDVXM',\n",
      "       'ROYESTXM', 'HISP_REF'],\n",
      "      dtype='object')\n"
     ]
    }
   ],
   "source": [
    "print(column_names)"
   ]
  },
  {
   "cell_type": "markdown",
   "metadata": {},
   "source": [
    "## Part 2: STANDARDIZING DATA"
   ]
  },
  {
   "cell_type": "code",
   "execution_count": 18,
   "metadata": {},
   "outputs": [
    {
     "name": "stdout",
     "output_type": "stream",
     "text": [
      "StandardScaler(copy=True, with_mean=True, with_std=True)\n",
      "[[-9.62418516e-01 -2.73835349e-01 -9.84929669e-01 ... -1.70160337e-01\n",
      "  -1.33220694e-15  3.91354881e-01]\n",
      " [-9.62418516e-01 -2.73835349e-01 -9.84929669e-01 ... -1.70160337e-01\n",
      "  -1.33220694e-15  3.91354881e-01]\n",
      " [-3.75969752e-01 -2.73835349e-01  1.27911908e+00 ... -1.70160337e-01\n",
      "  -1.33220694e-15  3.91354881e-01]\n",
      " ...\n",
      " [ 1.50066630e+00 -2.73835349e-01 -2.30246752e-01 ... -1.68447208e-01\n",
      "  -1.33220694e-15  3.91354881e-01]\n",
      " [-1.43157753e+00 -2.73835349e-01 -9.84929669e-01 ... -1.70160337e-01\n",
      "  -1.33220694e-15  3.91354881e-01]\n",
      " [-1.43157753e+00 -2.73835349e-01 -9.84929669e-01 ... -1.70160337e-01\n",
      "  -1.33220694e-15  3.91354881e-01]]\n"
     ]
    }
   ],
   "source": [
    "from sklearn import svm\n",
    "from sklearn.preprocessing import StandardScaler\n",
    "scaler = StandardScaler()\n",
    "print(scaler.fit(X))\n",
    "StandardScaler()\n",
    "X_standardized = scaler.transform(X)\n",
    "print(X_standardized)"
   ]
  },
  {
   "cell_type": "markdown",
   "metadata": {},
   "source": [
    "## Unsupervised Learning"
   ]
  },
  {
   "cell_type": "markdown",
   "metadata": {},
   "source": [
    "### KMEANS"
   ]
  },
  {
   "cell_type": "code",
   "execution_count": 19,
   "metadata": {},
   "outputs": [],
   "source": [
    "from sklearn import cluster\n",
    "import matplotlib.pyplot as plt"
   ]
  },
  {
   "cell_type": "code",
   "execution_count": 20,
   "metadata": {},
   "outputs": [
    {
     "data": {
      "text/plain": [
       "[<matplotlib.lines.Line2D at 0x2ad4ef1cae10>]"
      ]
     },
     "execution_count": 20,
     "metadata": {},
     "output_type": "execute_result"
    },
    {
     "data": {
      "image/png": "[encoded data removed]",
      "text/plain": [
       "<Figure size 432x288 with 1 Axes>"
      ]
     },
     "metadata": {
      "needs_background": "light"
     },
     "output_type": "display_data"
    }
   ],
   "source": [
    "num_iters = 40\n",
    "distortion = [0 for i in range(num_iters)]\n",
    "for i in range(num_iters+2)[2:]:\n",
    "    km = cluster.KMeans(n_clusters = i, init=\"k-means++\")\n",
    "    clusters = km.fit_predict(X_standardized)\n",
    "    distortion[i-2] = km.inertia_\n",
    "\n",
    "plt.plot(list(range(num_iters+2)[2:]), distortion)\n",
    "\n"
   ]
  },
  {
   "cell_type": "code",
   "execution_count": 21,
   "metadata": {},
   "outputs": [
    {
     "name": "stdout",
     "output_type": "stream",
     "text": [
      "Mean Income in Each Cluster for 2 clusters:  [0.64821401 0.46369485]\n",
      "Number in Each Cluster for 2 clusters [1510, 4167]\n",
      "\n",
      "Mean Income in Each Cluster for 3 clusters:  [0.38579028 0.644125   0.59085083]\n",
      "Number in Each Cluster for 3 clusters [2380, 841, 2456]\n",
      "\n",
      "Mean Income in Each Cluster for 4 clusters:  [0.64553666 0.63085213 0.42313041 0.39426757]\n",
      "Number in Each Cluster for 4 clusters [766, 1831, 1632, 1448]\n",
      "\n",
      "Mean Income in Each Cluster for 5 clusters:  [0.4001916  0.42469854 0.6412886  0.64392812 0.45378982]\n",
      "Number in Each Cluster for 5 clusters [1250, 1533, 1655, 716, 523]\n",
      "\n",
      "Mean Income in Each Cluster for 6 clusters:  [0.59592895 0.45626132 0.38286249 0.62757947 0.43121848 0.66829088]\n",
      "Number in Each Cluster for 6 clusters [1276, 481, 1212, 263, 1400, 1045]\n",
      "\n",
      "Mean Income in Each Cluster for 7 clusters:  [0.42803892 0.59573863 0.37615788 0.4515502  0.84102239 0.65232574\n",
      " 0.63481553]\n",
      "Number in Each Cluster for 7 clusters [1377, 1251, 1196, 478, 96, 1025, 254]\n",
      "\n"
     ]
    }
   ],
   "source": [
    "for num_clusters in [2,3,4,5,6,7]:\n",
    "    km = cluster.KMeans(n_clusters=num_clusters, init=\"k-means++\")\n",
    "    clusters = km.fit_predict(X_standardized)\n",
    "\n",
    "    mean_income_in_each_cluster = [0 for i in range(num_clusters)]\n",
    "    number_in_each_cluster = [0 for i in range(num_clusters)]\n",
    "\n",
    "    for in_i, cluster_assignment in enumerate(clusters):\n",
    "        mean_income_in_each_cluster[cluster_assignment] = mean_income_in_each_cluster[cluster_assignment]+labels[in_i]\n",
    "        number_in_each_cluster[cluster_assignment] += 1\n",
    "\n",
    "    mean_income_in_each_cluster = np.array(mean_income_in_each_cluster)/np.array(number_in_each_cluster)\n",
    "    print(\"Mean Income in Each Cluster for\", num_clusters, \"clusters: \", mean_income_in_each_cluster)\n",
    "    print(\"Number in Each Cluster for\", num_clusters, \"clusters\", number_in_each_cluster)\n",
    "    print()\n",
    "    "
   ]
  },
  {
   "cell_type": "markdown",
   "metadata": {},
   "source": [
    "### GMM"
   ]
  },
  {
   "cell_type": "code",
   "execution_count": null,
   "metadata": {},
   "outputs": [],
   "source": []
  },
  {
   "cell_type": "markdown",
   "metadata": {},
   "source": [
    "## Supervised Learning"
   ]
  },
  {
   "cell_type": "markdown",
   "metadata": {},
   "source": [
    "### SVM"
   ]
  },
  {
   "cell_type": "code",
   "execution_count": 22,
   "metadata": {},
   "outputs": [],
   "source": [
    "def split_list(a_list):\n",
    "    half = 5000\n",
    "    return a_list[:half], a_list[half:]"
   ]
  },
  {
   "cell_type": "code",
   "execution_count": null,
   "metadata": {},
   "outputs": [],
   "source": [
    "from sklearn.svm import SVC\n",
    "from sklearn.metrics import precision_score\n",
    "from sklearn.multiclass import OneVsRestClassifier\n",
    "from sklearn.model_selection import GridSearchCV\n",
    "\n",
    "\n",
    "xtr,xts = split_list(X_standardized)\n",
    "ytr,yts = split_list(labels)\n",
    "\n",
    "bins = np.array([0.2,0.4,0.6,0.8])\n",
    "\n",
    "classes_train = np.digitize(ytr, bins)\n",
    "classes_test = np.digitize(yts, bins)\n",
    "print(np.unique(classes_train))\n",
    "\n",
    "classifier = OneVsRestClassifier(SVC(C=5, kernel=\"rbf\",gamma=\"scale\")).fit(xtr, classes_train)\n",
    "y_pred = classifier.predict(xts)\n",
    "print(\"The training accuracy is: \", classifier.score(xtr, classes_train))\n",
    "print(\"The test accuracy is: \", classifier.score(xts, classes_test))\n",
    "print(\"The test precision is: \", precision_score(classes_test, y_pred, average=\"micro\"))\n",
    "\n",
    "bins = np.array([0.25,0.5,0.75])\n",
    "\n",
    "classes_train = np.digitize(ytr, bins)\n",
    "classes_test = np.digitize(yts, bins)\n",
    "print(np.unique(classes_train))\n",
    "\n",
    "classifier = OneVsRestClassifier(SVC(C=5, kernel=\"rbf\",gamma=\"scale\")).fit(xtr, classes_train)\n",
    "y_pred = classifier.predict(xts)\n",
    "print(\"The training accuracy is: \", classifier.score(xtr, classes_train))\n",
    "print(\"The test accuracy is: \", classifier.score(xts, classes_test))\n",
    "print(\"The test precision is: \", precision_score(classes_test, y_pred, average=\"micro\"))\n",
    "\n",
    "\n",
    "bins = np.array([0.33,0.66])\n",
    "\n",
    "classes_train = np.digitize(ytr, bins)\n",
    "classes_test = np.digitize(yts, bins)\n",
    "print(np.unique(classes_train))\n",
    "\n",
    "classifier = OneVsRestClassifier(SVC(C=5, kernel=\"rbf\",gamma=\"scale\")).fit(xtr, classes_train)\n",
    "y_pred = classifier.predict(xts)\n",
    "print(\"The training accuracy is: \", classifier.score(xtr, classes_train))\n",
    "print(\"The test accuracy is: \", classifier.score(xts, classes_test))\n",
    "print(\"The test precision is: \", precision_score(classes_test, y_pred, average=\"micro\"))\n",
    "\n",
    "\n",
    "bins = np.array([0.95])\n",
    "\n",
    "classes_train = np.digitize(ytr, bins)\n",
    "classes_test = np.digitize(yts, bins)\n",
    "print(np.unique(classes_train))\n",
    "\n",
    "classifier = OneVsRestClassifier(SVC(C=5, kernel=\"rbf\",gamma=\"scale\")).fit(xtr, classes_train)\n",
    "y_pred = classifier.predict(xts)\n",
    "print(\"The training accuracy is: \", classifier.score(xtr, classes_train))\n",
    "print(\"The test accuracy is: \", classifier.score(xts, classes_test))\n",
    "print(\"The test precision is: \", precision_score(classes_test, y_pred, average=\"micro\"))\n"
   ]
  },
  {
   "cell_type": "code",
   "execution_count": null,
   "metadata": {},
   "outputs": [],
   "source": [
    "parameters = {'kernel':('poly', 'linear'), 'C':[1, 100],'gamma':('auto','scale')}\n",
    "svc = svm.SVC()\n",
    "\n",
    "clf = GridSearchCV(svc, parameters)\n",
    "clf.fit(xtr, classes_train)\n",
    "print (clf.best_params_)"
   ]
  },
  {
   "cell_type": "code",
   "execution_count": null,
   "metadata": {},
   "outputs": [],
   "source": [
    "#svc =SVC(C=1.0, cache_size=200, class_weight=None, coef0=0.0,decision_function_shape='ovr', degree=3,gamma='auto_deprecated', kernel='rbf', max_iter=-1,probability=False, random_state=None, shrinking=True,tol=0.001, verbose=False)\n",
    "svc =SVC(C=1, kernel=\"linear\",gamma=\"scale\")\n",
    "svc.fit(xtr, classes_train)\n",
    "print(np.sum(classes_test == 0), np.sum(classes_test == 1))\n",
    "print(\"The train accuracy is: \", svc.score(xtr, classes_train))\n",
    "print(\"The test accuracy is: \", svc.score(xts, classes_test))"
   ]
  },
  {
   "cell_type": "code",
   "execution_count": null,
   "metadata": {},
   "outputs": [],
   "source": [
    "N = 10\n",
    "weight = svc.coef_\n",
    "test_list =weight[0]\n",
    "#print(type(weight[0]))\n",
    "#test_list =np.array2string(weight[0], precision=6, separator=' ',suppress_small=False)\n",
    "#test_list=test_list[1:-1]\n",
    "#print(test_list)\n",
    "#test_list = test_list.split(' ')\n",
    "\n",
    "res = sorted(range(len(test_list)), key = lambda sub: test_list[sub])[-N:]\n",
    "res.sort()\n",
    "print(\"Indices list of max N elements is : \" + str(res)) \n",
    "\n",
    "for i in res:\n",
    "    print(column_names[i])"
   ]
  }
 ],
 "metadata": {
  "kernelspec": {
   "display_name": "Python 3",
   "language": "python",
   "name": "python3"
  },
  "language_info": {
   "codemirror_mode": {
    "name": "ipython",
    "version": 3
   },
   "file_extension": ".py",
   "mimetype": "text/x-python",
   "name": "python",
   "nbconvert_exporter": "python",
   "pygments_lexer": "ipython3",
   "version": "3.7.0"
  }
 },
 "nbformat": 4,
 "nbformat_minor": 2
}
